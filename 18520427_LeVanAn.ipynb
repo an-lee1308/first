{
 "cells": [
  {
   "cell_type": "code",
   "execution_count": 6,
   "id": "d677798b",
   "metadata": {},
   "outputs": [],
   "source": [
    "import findspark\n",
    "findspark.init()"
   ]
  },
  {
   "cell_type": "code",
   "execution_count": 7,
   "id": "11f5c0f7",
   "metadata": {},
   "outputs": [],
   "source": [
    "import pyspark\n",
    "\n",
    "from pyspark.sql import SparkSession\n",
    "\n",
    "from pyspark.sql import functions as f\n",
    "\n",
    "spark = SparkSession.builder.appName(\"PySpark\").getOrCreate()"
   ]
  },
  {
   "cell_type": "code",
   "execution_count": 8,
   "id": "04f6db26",
   "metadata": {},
   "outputs": [],
   "source": [
    "movies_smallDF = (spark.read.csv(\n",
    "        path=\"D:\\Term\\HK7\\BigData\\movies_small.csv\",\n",
    "        sep=\",\",\n",
    "        header=True,\n",
    "        quote='\"',\n",
    "        schema=\"moviedId INT, title STRING, genres STRING\",\n",
    "    )\n",
    ")"
   ]
  },
  {
   "cell_type": "code",
   "execution_count": 10,
   "id": "36caeb16",
   "metadata": {},
   "outputs": [
    {
     "name": "stdout",
     "output_type": "stream",
     "text": [
      "+--------+--------------------+--------------------+\n",
      "|moviedId|               title|              genres|\n",
      "+--------+--------------------+--------------------+\n",
      "|       1|    Toy Story (1995)|Adventure|Animati...|\n",
      "|       2|      Jumanji (1995)|Adventure|Childre...|\n",
      "|       3|Grumpier Old Men ...|      Comedy|Romance|\n",
      "|       4|Waiting to Exhale...|Comedy|Drama|Romance|\n",
      "|       5|Father of the Bri...|              Comedy|\n",
      "|       6|         Heat (1995)|Action|Crime|Thri...|\n",
      "|       7|      Sabrina (1995)|      Comedy|Romance|\n",
      "|       8| Tom and Huck (1995)|  Adventure|Children|\n",
      "|       9| Sudden Death (1995)|              Action|\n",
      "|      10|    GoldenEye (1995)|Action|Adventure|...|\n",
      "|      11|American Presiden...|Comedy|Drama|Romance|\n",
      "|      12|Dracula: Dead and...|       Comedy|Horror|\n",
      "|      13|        Balto (1995)|Adventure|Animati...|\n",
      "|      14|        Nixon (1995)|               Drama|\n",
      "|      15|Cutthroat Island ...|Action|Adventure|...|\n",
      "|      16|       Casino (1995)|         Crime|Drama|\n",
      "|      17|Sense and Sensibi...|       Drama|Romance|\n",
      "|      18|   Four Rooms (1995)|              Comedy|\n",
      "|      19|Ace Ventura: When...|              Comedy|\n",
      "|      20|  Money Train (1995)|Action|Comedy|Cri...|\n",
      "+--------+--------------------+--------------------+\n",
      "only showing top 20 rows\n",
      "\n"
     ]
    }
   ],
   "source": [
    "movies_smallDF.show()"
   ]
  },
  {
   "cell_type": "code",
   "execution_count": 11,
   "id": "b635602e",
   "metadata": {},
   "outputs": [
    {
     "name": "stdout",
     "output_type": "stream",
     "text": [
      "+--------+--------------------+--------------------+\n",
      "|moviedId|               title|              genres|\n",
      "+--------+--------------------+--------------------+\n",
      "|       6|         Heat (1995)|Action|Crime|Thri...|\n",
      "|       9| Sudden Death (1995)|              Action|\n",
      "|      10|    GoldenEye (1995)|Action|Adventure|...|\n",
      "|      15|Cutthroat Island ...|Action|Adventure|...|\n",
      "|      20|  Money Train (1995)|Action|Comedy|Cri...|\n",
      "+--------+--------------------+--------------------+\n",
      "only showing top 5 rows\n",
      "\n"
     ]
    }
   ],
   "source": [
    "#Question 1\n",
    "movies_smallDF.withColumn(\"genres_array\",f.split(f.col(\"genres\"),\"\\|\")).filter(f.array_contains(f.col('genres_array'),'Action')).select('moviedId','title','genres').show(5)"
   ]
  },
  {
   "cell_type": "code",
   "execution_count": 12,
   "id": "f063346f",
   "metadata": {},
   "outputs": [
    {
     "name": "stdout",
     "output_type": "stream",
     "text": [
      "+--------+----------------------------------+-----+\n",
      "|moviedId|title                             |count|\n",
      "+--------+----------------------------------+-----+\n",
      "|1       |Toy Story (1995)                  |5    |\n",
      "|2       |Jumanji (1995)                    |3    |\n",
      "|3       |Grumpier Old Men (1995)           |2    |\n",
      "|4       |Waiting to Exhale (1995)          |3    |\n",
      "|5       |Father of the Bride Part II (1995)|1    |\n",
      "+--------+----------------------------------+-----+\n",
      "only showing top 5 rows\n",
      "\n"
     ]
    }
   ],
   "source": [
    "#Question 2\n",
    "movies_smallDF.withColumn('count', f.size(f.split('genres', '\\|'))).select('moviedId', 'title', 'count').sort('moviedId').show(5, truncate=False)"
   ]
  },
  {
   "cell_type": "code",
   "execution_count": 20,
   "id": "a932bc78",
   "metadata": {},
   "outputs": [
    {
     "name": "stdout",
     "output_type": "stream",
     "text": [
      "+------------------+-----+\n",
      "|            genres|count|\n",
      "+------------------+-----+\n",
      "|(no genres listed)|   34|\n",
      "|         Film-Noir|   87|\n",
      "|              IMAX|  158|\n",
      "|           Western|  167|\n",
      "|           Musical|  334|\n",
      "+------------------+-----+\n",
      "only showing top 5 rows\n",
      "\n"
     ]
    }
   ],
   "source": [
    "movies_smallDF.withColumn('arr', f.split('genres', '\\|')).withColumn('genres', f.explode('arr')).groupBy('genres').count().sort('count').show(5)"
   ]
  },
  {
   "cell_type": "code",
   "execution_count": 14,
   "id": "e6a39b80",
   "metadata": {},
   "outputs": [
    {
     "name": "stdout",
     "output_type": "stream",
     "text": [
      "+------------------+----------------------------------------------------------------------------------------------------+\n",
      "|            genres|                                                                                         moives_list|\n",
      "+------------------+----------------------------------------------------------------------------------------------------+\n",
      "|             Crime|[Heat (1995), Casino (1995), Money Train (1995), Get Shorty (1995), Copycat (1995), Assassins (19...|\n",
      "|           Romance|[Grumpier Old Men (1995), Waiting to Exhale (1995), Sabrina (1995), American President, The (1995...|\n",
      "|          Thriller|[Heat (1995), GoldenEye (1995), Money Train (1995), Get Shorty (1995), Copycat (1995), Assassins ...|\n",
      "|         Adventure|[Toy Story (1995), Jumanji (1995), Tom and Huck (1995), GoldenEye (1995), Balto (1995), Cutthroat...|\n",
      "|             Drama|[Waiting to Exhale (1995), American President, The (1995), Nixon (1995), Casino (1995), Sense and...|\n",
      "|               War|[Richard III (1995), Misérables, Les (1995), Braveheart (1995), Rob Roy (1995), Beyond Rangoon (1...|\n",
      "|       Documentary|[Nico Icon (1995), Heidi Fleiss: Hollywood Madam (1995), Catwalk (1996), Anne Frank Remembered (1...|\n",
      "|           Fantasy|[Toy Story (1995), Jumanji (1995), City of Lost Children, The (Cité des enfants perdus, La) (1995...|\n",
      "|           Mystery|[Copycat (1995), City of Lost Children, The (Cité des enfants perdus, La) (1995), Twelve Monkeys ...|\n",
      "|           Musical|[Pocahontas (1995), Muppet Treasure Island (1996), Umbrellas of Cherbourg, The (Parapluies de Che...|\n",
      "|         Animation|[Toy Story (1995), Balto (1995), Pocahontas (1995), Goofy Movie, A (1995), Swan Princess, The (19...|\n",
      "|         Film-Noir|[Devil in a Blue Dress (1995), Suture (1993), Bitter Moon (1992), Maltese Falcon, The (1941), Sun...|\n",
      "|(no genres listed)|[La cravate (1957), Ben-hur (2016), Pirates of the Caribbean: Dead Men Tell No Tales (2017), Supe...|\n",
      "|              IMAX|[Apollo 13 (1995), Lion King, The (1994), Beauty and the Beast (1991), Everest (1998), Fantasia 2...|\n",
      "|            Horror|[Dracula: Dead and Loving It (1995), Copycat (1995), From Dusk Till Dawn (1996), Mary Reilly (199...|\n",
      "|           Western|[Desperado (1995), Wild Bill (1995), Legends of the Fall (1994), Quick and the Dead, The (1995), ...|\n",
      "|            Comedy|[Toy Story (1995), Grumpier Old Men (1995), Waiting to Exhale (1995), Father of the Bride Part II...|\n",
      "|          Children|[Toy Story (1995), Jumanji (1995), Tom and Huck (1995), Balto (1995), Now and Then (1995), Babe (...|\n",
      "|            Action|[Heat (1995), Sudden Death (1995), GoldenEye (1995), Cutthroat Island (1995), Money Train (1995),...|\n",
      "|            Sci-Fi|[Powder (1995), City of Lost Children, The (Cité des enfants perdus, La) (1995), Twelve Monkeys (...|\n",
      "+------------------+----------------------------------------------------------------------------------------------------+\n",
      "\n"
     ]
    }
   ],
   "source": [
    "#Question 4\n",
    "movies_smallDF.withColumn('genres_array', f.split('genres', '\\|')).withColumn('genres', f.explode('genres_array')).groupBy('genres').agg(f.collect_list(\"title\").alias('moives_list')).show(truncate=100)"
   ]
  },
  {
   "cell_type": "code",
   "execution_count": 15,
   "id": "73d3a909",
   "metadata": {},
   "outputs": [
    {
     "name": "stdout",
     "output_type": "stream",
     "text": [
      "+---------+----------------+\n",
      "|genre    |first_appearance|\n",
      "+---------+----------------+\n",
      "|Animation|1908            |\n",
      "|Sci-Fi   |1902            |\n",
      "+---------+----------------+\n",
      "\n"
     ]
    }
   ],
   "source": [
    "#Question 5\n",
    "movies_smallDF.withColumn('arr', f.split('title', ' ')).withColumn('last_element', f.element_at('arr', -1)).withColumn('year', f.substring('last_element', 2,4).cast('int')).withColumn('arr_genres', f.split('genres', '\\|')).withColumn('genres', f.explode('arr_genres')).groupBy('genres').agg(f.min('year').alias('first_appearance')).filter(f.substring('genres',0,10).isin(['Sci-Fi','Animation'])).select(f.col('genres').alias('genre'), 'first_appearance').show(1000, truncate=False)"
   ]
  },
  {
   "cell_type": "code",
   "execution_count": 32,
   "id": "dd50a144",
   "metadata": {},
   "outputs": [],
   "source": [
    "#Question 6\n",
    "moviesDF = spark.read.options(delimiter=\",\",header='True',inferSchema='True').csv(\"./BigData/movies_small.csv\")\n",
    "ratingsDF = spark.read.options(delimiter=\",\",header='True',inferSchema='True').csv(\"./BigData/ratings_small.csv\")"
   ]
  },
  {
   "cell_type": "code",
   "execution_count": 33,
   "id": "b3a3a49b",
   "metadata": {},
   "outputs": [
    {
     "name": "stdout",
     "output_type": "stream",
     "text": [
      "+-------+--------------------+--------------------+------+------+---------+--------------------+-------------+\n",
      "|movieId|               title|              genres|userId|rating|timestamp|        genres_array|single_genres|\n",
      "+-------+--------------------+--------------------+------+------+---------+--------------------+-------------+\n",
      "|      1|    Toy Story (1995)|Adventure|Animati...|     1|   4.0|964982703|[Adventure, Anima...|    Adventure|\n",
      "|      1|    Toy Story (1995)|Adventure|Animati...|     1|   4.0|964982703|[Adventure, Anima...|    Animation|\n",
      "|      1|    Toy Story (1995)|Adventure|Animati...|     1|   4.0|964982703|[Adventure, Anima...|     Children|\n",
      "|      1|    Toy Story (1995)|Adventure|Animati...|     1|   4.0|964982703|[Adventure, Anima...|       Comedy|\n",
      "|      1|    Toy Story (1995)|Adventure|Animati...|     1|   4.0|964982703|[Adventure, Anima...|      Fantasy|\n",
      "|      3|Grumpier Old Men ...|      Comedy|Romance|     1|   4.0|964981247|   [Comedy, Romance]|       Comedy|\n",
      "|      3|Grumpier Old Men ...|      Comedy|Romance|     1|   4.0|964981247|   [Comedy, Romance]|      Romance|\n",
      "|      6|         Heat (1995)|Action|Crime|Thri...|     1|   4.0|964982224|[Action, Crime, T...|       Action|\n",
      "|      6|         Heat (1995)|Action|Crime|Thri...|     1|   4.0|964982224|[Action, Crime, T...|        Crime|\n",
      "|      6|         Heat (1995)|Action|Crime|Thri...|     1|   4.0|964982224|[Action, Crime, T...|     Thriller|\n",
      "|     47|Seven (a.k.a. Se7...|    Mystery|Thriller|     1|   5.0|964983815| [Mystery, Thriller]|      Mystery|\n",
      "|     47|Seven (a.k.a. Se7...|    Mystery|Thriller|     1|   5.0|964983815| [Mystery, Thriller]|     Thriller|\n",
      "|     50|Usual Suspects, T...|Crime|Mystery|Thr...|     1|   5.0|964982931|[Crime, Mystery, ...|        Crime|\n",
      "|     50|Usual Suspects, T...|Crime|Mystery|Thr...|     1|   5.0|964982931|[Crime, Mystery, ...|      Mystery|\n",
      "|     50|Usual Suspects, T...|Crime|Mystery|Thr...|     1|   5.0|964982931|[Crime, Mystery, ...|     Thriller|\n",
      "|     70|From Dusk Till Da...|Action|Comedy|Hor...|     1|   3.0|964982400|[Action, Comedy, ...|       Action|\n",
      "|     70|From Dusk Till Da...|Action|Comedy|Hor...|     1|   3.0|964982400|[Action, Comedy, ...|       Comedy|\n",
      "|     70|From Dusk Till Da...|Action|Comedy|Hor...|     1|   3.0|964982400|[Action, Comedy, ...|       Horror|\n",
      "|     70|From Dusk Till Da...|Action|Comedy|Hor...|     1|   3.0|964982400|[Action, Comedy, ...|     Thriller|\n",
      "|    101|Bottle Rocket (1996)|Adventure|Comedy|...|     1|   5.0|964980868|[Adventure, Comed...|    Adventure|\n",
      "+-------+--------------------+--------------------+------+------+---------+--------------------+-------------+\n",
      "only showing top 20 rows\n",
      "\n",
      "+------------------+------------------+\n",
      "|     single_genres|    Average rating|\n",
      "+------------------+------------------+\n",
      "|             Crime| 3.658293867274144|\n",
      "|           Romance|3.5065107040388437|\n",
      "|          Thriller|3.4937055799183425|\n",
      "|         Adventure|3.5086089151939075|\n",
      "|             Drama|3.6561844113718758|\n",
      "|               War|   3.8082938876312|\n",
      "|       Documentary| 3.797785069729286|\n",
      "|           Fantasy|3.4910005070136894|\n",
      "|           Mystery| 3.632460255407871|\n",
      "|           Musical|3.5636781053649105|\n",
      "|         Animation|3.6299370349170004|\n",
      "|         Film-Noir| 3.920114942528736|\n",
      "|(no genres listed)|3.4893617021276597|\n",
      "|              IMAX| 3.618335343787696|\n",
      "|            Horror| 3.258195034974626|\n",
      "|           Western| 3.583937823834197|\n",
      "|            Comedy|3.3847207640898267|\n",
      "|          Children| 3.412956125108601|\n",
      "|            Action| 3.447984331646809|\n",
      "|            Sci-Fi| 3.455721162210752|\n",
      "+------------------+------------------+\n",
      "\n"
     ]
    }
   ],
   "source": [
    "joinDF = moviesDF.join(ratingsDF, on=['movieId'],how='inner')\n",
    "joinDF.withColumn('genres_array',f.split('genres','\\|')).withColumn('single_genres',f.explode('genres_array')).show()\n",
    "\n",
    "joinDF.withColumn('genres_array',f.split('genres','\\|')).withColumn('single_genres',f.explode('genres_array')).groupBy('single_genres').avg('rating').select('single_genres',f.col('avg(rating)').alias('Average rating')).show()"
   ]
  },
  {
   "cell_type": "code",
   "execution_count": null,
   "id": "27ac476a",
   "metadata": {},
   "outputs": [],
   "source": []
  }
 ],
 "metadata": {
  "kernelspec": {
   "display_name": "Python 3 (ipykernel)",
   "language": "python",
   "name": "python3"
  },
  "language_info": {
   "codemirror_mode": {
    "name": "ipython",
    "version": 3
   },
   "file_extension": ".py",
   "mimetype": "text/x-python",
   "name": "python",
   "nbconvert_exporter": "python",
   "pygments_lexer": "ipython3",
   "version": "3.9.7"
  }
 },
 "nbformat": 4,
 "nbformat_minor": 5
}
